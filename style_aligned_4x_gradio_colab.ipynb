{
  "cells": [
    {
      "cell_type": "markdown",
      "metadata": {
        "id": "view-in-github"
      },
      "source": [
        "[![Open In Colab](https://colab.research.google.com/assets/colab-badge.svg)](https://colab.research.google.com/github/camenduru/style-aligned-colab/blob/main/style_aligned_4x_gradio_colab.ipynb)"
      ]
    },
    {
      "cell_type": "code",
      "execution_count": null,
      "metadata": {
        "id": "VjYy0F2gZIPR"
      },
      "outputs": [],
      "source": [
        "!pip install -q diffusers transformers accelerate peft gradio==3.50.2 mediapy einops\n",
        "!pip install -q https://download.pytorch.org/whl/cu118/xformers-0.0.22.post4%2Bcu118-cp310-cp310-manylinux2014_x86_64.whl\n",
        "\n",
        "%cd /content\n",
        "!git clone -b dev https://github.com/camenduru/style-aligned\n",
        "%cd /content/style-aligned\n",
        "\n",
        "from diffusers import StableDiffusionXLPipeline, DDIMScheduler\n",
        "import torch\n",
        "import mediapy\n",
        "import sa_handler\n",
        "\n",
        "scheduler = DDIMScheduler(beta_start=0.00085, beta_end=0.012, beta_schedule=\"scaled_linear\", clip_sample=False, set_alpha_to_one=False)\n",
        "pipeline = StableDiffusionXLPipeline.from_pretrained(\"stabilityai/stable-diffusion-xl-base-1.0\", torch_dtype=torch.float16, variant=\"fp16\", use_safetensors=True, scheduler=scheduler).to(\"cuda\")\n",
        "pipeline.enable_xformers_memory_efficient_attention()\n",
        "handler = sa_handler.Handler(pipeline)\n",
        "sa_args = sa_handler.StyleAlignedArgs(share_group_norm=False, share_layer_norm=False, share_attention=True, adain_queries=True, adain_keys=True, adain_values=False)\n",
        "handler.register(sa_args)\n",
        "\n",
        "import gradio as gr\n",
        "\n",
        "def generate(prompt1, prompt2, prompt3, prompt4, negative_prompt, num_inference_steps, width, height):\n",
        "    sets_of_prompts = [prompt1, prompt2, prompt3, prompt4]\n",
        "    images = pipeline(prompt=sets_of_prompts, negative_prompt=negative_prompt, width=width, height=height, num_inference_steps=num_inference_steps).images\n",
        "    return images\n",
        "\n",
        "with gr.Blocks(title=f\"Realtime SDXL Turbo\", css=\".gradio-container {max-width: 850px !important}\") as demo:\n",
        "    with gr.Group():\n",
        "      prompt1 = gr.Textbox(show_label=False, value=\"a toy train. macro photo. 3d game asset\")\n",
        "      prompt2 = gr.Textbox(show_label=False, value=\"a toy airplane. macro photo. 3d game asset\")\n",
        "      prompt3 = gr.Textbox(show_label=False, value=\"a toy car. macro photo. 3d game asset\")\n",
        "      prompt4 = gr.Textbox(show_label=False, value=\"a toy boat. macro photo. 3d game asset\")\n",
        "      with gr.Row():\n",
        "          negative_prompt = gr.Textbox(show_label=False, value=\"low-resolution\")\n",
        "          button = gr.Button()\n",
        "      with gr.Row():\n",
        "          width = gr.Slider(minimum=256, maximum=2048, step=8, value=768, label=\"width\")\n",
        "          height = gr.Slider(minimum=256, maximum=2048, step=8, value=768, label=\"height\")\n",
        "          num_inference_steps = gr.Slider(minimum=1, maximum=150, step=1, value=50, label=\"num_inference_steps\")\n",
        "      output_images = gr.Gallery(\n",
        "          show_label=False,\n",
        "          type=\"pil\",\n",
        "          interactive=False,\n",
        "          height=816,\n",
        "          width=816,\n",
        "          elem_id=\"output_image\",\n",
        "      )\n",
        "    button.click(fn=generate, inputs=[prompt1, prompt2, prompt3, prompt4, negative_prompt, num_inference_steps, width, height], outputs=[output_images], show_progress=True)\n",
        "demo.queue().launch(inline=False, share=True, debug=True)"
      ]
    }
  ],
  "metadata": {
    "accelerator": "GPU",
    "colab": {
      "gpuType": "T4",
      "provenance": []
    },
    "kernelspec": {
      "display_name": "Python 3",
      "name": "python3"
    },
    "language_info": {
      "name": "python"
    }
  },
  "nbformat": 4,
  "nbformat_minor": 0
}
