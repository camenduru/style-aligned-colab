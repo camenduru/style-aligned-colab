{
  "cells": [
    {
      "cell_type": "markdown",
      "metadata": {
        "id": "view-in-github"
      },
      "source": [
        "[![Open In Colab](https://colab.research.google.com/assets/colab-badge.svg)](https://colab.research.google.com/github/camenduru/style-aligned-colab/blob/main/style_aligned_gradio_colab.ipynb)"
      ]
    },
    {
      "cell_type": "code",
      "execution_count": null,
      "metadata": {
        "id": "VjYy0F2gZIPR"
      },
      "outputs": [],
      "source": [
        "!pip install -q diffusers transformers accelerate peft gradio==3.50.2 mediapy einops\n",
        "\n",
        "%cd /content\n",
        "!git clone -b dev https://github.com/camenduru/style-aligned\n",
        "%cd /content/style-aligned\n",
        "\n",
        "from diffusers import StableDiffusionXLPipeline, DDIMScheduler\n",
        "import torch\n",
        "import mediapy\n",
        "import sa_handler\n",
        "\n",
        "scheduler = DDIMScheduler(beta_start=0.00085, beta_end=0.012, beta_schedule=\"scaled_linear\", clip_sample=False, set_alpha_to_one=False)\n",
        "pipeline = StableDiffusionXLPipeline.from_pretrained(\"stabilityai/stable-diffusion-xl-base-1.0\", torch_dtype=torch.float16, \n",
        "                                                     variant=\"fp16\", use_safetensors=False, scheduler=scheduler).to(\"cuda\")\n",
        "\n",
        "handler = sa_handler.Handler(pipeline)\n",
        "sa_args = sa_handler.StyleAlignedArgs(share_group_norm=False, share_layer_norm=False, share_attention=True, \n",
        "                                      adain_queries=True, adain_keys=True, adain_values=False)\n",
        "\n",
        "handler.register(sa_args)\n",
        "\n",
        "import gradio as gr\n",
        "\n",
        "def generate(prompt, negative_prompt, num_inference_steps, guidance_scale, width, height):\n",
        "    image = pipeline(prompt=prompt, negative_prompt=negative_prompt, width=width, height=height, num_inference_steps=num_inference_steps, guidance_scale=guidance_scale)[0]\n",
        "    return image\n",
        "\n",
        "with gr.Blocks(title=f\"Realtime SDXL Turbo\", css=\".gradio-container {max-width: 1056px !important}\") as demo:\n",
        "    with gr.Box(scale=23):\n",
        "      with gr.Row():\n",
        "        with gr.Column():\n",
        "            with gr.Row():\n",
        "              prompt = gr.Textbox(show_label=False, value=\"1girl red dress\")\n",
        "              negative_prompt = gr.Textbox(show_label=False, value=\"blurry\")\n",
        "        with gr.Column():\n",
        "            with gr.Row():\n",
        "              width = gr.Slider(minimum=256, maximum=2048, step=8, value=1024, label=\"width\")\n",
        "              height = gr.Slider(minimum=256, maximum=2048, step=8, value=1024, label=\"height\")\n",
        "        with gr.Column():\n",
        "            with gr.Row():\n",
        "              num_inference_steps = gr.Slider(minimum=1, maximum=150, step=1, value=50, label=\"num_inference_steps\")\n",
        "              guidance_scale = gr.Slider(minimum=2, maximum=25, step=0.5, value=7.5, label=\"guidance_scale\")\n",
        "      with gr.Column():\n",
        "          textbox = gr.Textbox(show_label=False, value=\"a close-up picture of a fluffy cat\")\n",
        "          button = gr.Button()\n",
        "    with gr.Row(variant=\"default\"):\n",
        "        output_image = gr.Image(\n",
        "            show_label=False,\n",
        "            type=\"pil\",\n",
        "            interactive=False,\n",
        "            height=1024,\n",
        "            width=1024,\n",
        "            elem_id=\"output_image\",\n",
        "        )\n",
        "\n",
        "    button.click(fn=generate, inputs=[prompt, negative_prompt, num_inference_steps, guidance_scale, width, height], outputs=[output_image], show_progress=True)\n",
        "\n",
        "demo.queue().launch(inline=False, share=True, debug=True)"
      ]
    }
  ],
  "metadata": {
    "accelerator": "GPU",
    "colab": {
      "gpuType": "T4",
      "provenance": []
    },
    "kernelspec": {
      "display_name": "Python 3",
      "name": "python3"
    },
    "language_info": {
      "name": "python"
    }
  },
  "nbformat": 4,
  "nbformat_minor": 0
}
